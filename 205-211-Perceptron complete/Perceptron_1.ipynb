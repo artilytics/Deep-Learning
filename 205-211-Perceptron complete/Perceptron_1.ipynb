{
  "nbformat": 4,
  "nbformat_minor": 0,
  "metadata": {
    "colab": {
      "name": "Perceptron 1.ipynb",
      "provenance": []
    },
    "kernelspec": {
      "name": "python3",
      "display_name": "Python 3"
    },
    "language_info": {
      "name": "python"
    }
  },
  "cells": [
    {
      "cell_type": "code",
      "execution_count": 59,
      "metadata": {
        "colab": {
          "base_uri": "https://localhost:8080/"
        },
        "id": "DgZ2VeSZXB2b",
        "outputId": "0fda5c0e-2e1e-4ea9-acec-499d2924ef95"
      },
      "outputs": [
        {
          "output_type": "stream",
          "name": "stdout",
          "text": [
            "Looking in indexes: https://pypi.org/simple, https://us-python.pkg.dev/colab-wheels/public/simple/\n",
            "Requirement already satisfied: pandas in /usr/local/lib/python3.7/dist-packages (1.3.5)\n",
            "Requirement already satisfied: numpy>=1.17.3 in /usr/local/lib/python3.7/dist-packages (from pandas) (1.21.6)\n",
            "Requirement already satisfied: python-dateutil>=2.7.3 in /usr/local/lib/python3.7/dist-packages (from pandas) (2.8.2)\n",
            "Requirement already satisfied: pytz>=2017.3 in /usr/local/lib/python3.7/dist-packages (from pandas) (2022.1)\n",
            "Requirement already satisfied: six>=1.5 in /usr/local/lib/python3.7/dist-packages (from python-dateutil>=2.7.3->pandas) (1.15.0)\n"
          ]
        }
      ],
      "source": [
        "!pip install pandas\n"
      ]
    },
    {
      "cell_type": "code",
      "source": [
        "import os\n",
        "import matplotlib.pyplot as plt\n",
        "import pandas as pd\n",
        "import numpy as np\n",
        "import seaborn as sns\n",
        "import joblib #to store model\n",
        "from matplotlib.colors import ListedColormap\n",
        "\n",
        "plt.style.use(\"fivethirtyeight\") ## << optional step"
      ],
      "metadata": {
        "id": "xxIAavyfYXeH"
      },
      "execution_count": 60,
      "outputs": []
    },
    {
      "cell_type": "code",
      "source": [
        "class Perceptron:\n",
        "    def __init__(self, eta: float=None, epochs: int=None):\n",
        "        self.weights = np.random.randn(3) * 1e-4 # small random weights\n",
        "        training = (eta is not None) and (epochs is not None)\n",
        "        if training:\n",
        "            print(f\"initial weights before training: \\n{self.weights}\\n\")\n",
        "        self.eta = eta\n",
        "        self.epochs = epochs\n",
        "    \n",
        "    def _z_outcome(self, inputs, weights):\n",
        "        return np.dot(inputs, weights)\n",
        "    \n",
        "    def activation_function(self, z):\n",
        "        return np.where(z > 0, 1, 0)\n",
        "    \n",
        "    def fit(self, X, y):\n",
        "        self.X = X\n",
        "        self.y = y\n",
        "        \n",
        "        X_with_bias = np.c_[self.X, -np.ones((len(self.X), 1))]\n",
        "        print(f\"X with bias: \\n{X_with_bias}\")\n",
        "        \n",
        "        for epoch in range(self.epochs):\n",
        "            print(\"--\"*10)\n",
        "            print(f\"for epoch >> {epoch}\")\n",
        "            print(\"--\"*10)\n",
        "            \n",
        "            z = self._z_outcome(X_with_bias, self.weights)\n",
        "            y_hat = self.activation_function(z)\n",
        "            print(f\"predicted value after forward pass: \\n{y_hat}\")\n",
        "            \n",
        "            self.error = self.y - y_hat\n",
        "            print(f\"error: \\n{self.error}\")\n",
        "            \n",
        "            self.weights = self.weights + self.eta * np.dot(X_with_bias.T, self.error)\n",
        "            print(f\"updated weights after epoch: {epoch + 1}/{self.epochs}: \\n{self.weights}\")\n",
        "            print(\"##\"*10)\n",
        "            \n",
        "    \n",
        "    def predict(self, X):\n",
        "        X_with_bias = np.c_[X, -np.ones((len(X), 1))]\n",
        "        z = self._z_outcome(X_with_bias, self.weights)\n",
        "        return self.activation_function(z)\n",
        "    \n",
        "    def total_loss(self):\n",
        "        total_loss = np.sum(self.error)\n",
        "        print(f\"\\ntotal loss: {total_loss}\\n\")\n",
        "        return total_loss\n",
        "    \n",
        "    def _create_dir_return_path(self, model_dir, filename):\n",
        "        os.makedirs(model_dir, exist_ok=True)\n",
        "        return os.path.join(model_dir, filename)\n",
        "    \n",
        "    def save(self, filename, model_dir=None):\n",
        "        if model_dir is not None:\n",
        "            model_file_path = self._create_dir_return_path(model_dir, filename)\n",
        "            joblib.dump(self, model_file_path)\n",
        "        else:\n",
        "            model_file_path = self._create_dir_return_path(\"model\", filename)\n",
        "            joblib.dump(self, model_file_path)\n",
        "    \n",
        "    def load(self, filepath):\n",
        "        return joblib.load(filepath)"
      ],
      "metadata": {
        "id": "PPVMC8QzYXbq"
      },
      "execution_count": 80,
      "outputs": []
    },
    {
      "cell_type": "code",
      "source": [
        "def prepare_data(df, target_col=\"y\"):\n",
        "    X = df.drop(target_col, axis=1)\n",
        "    \n",
        "    y = df[target_col]\n",
        "    \n",
        "    return X, y"
      ],
      "metadata": {
        "id": "C-wX--691FVp"
      },
      "execution_count": 81,
      "outputs": []
    },
    {
      "cell_type": "code",
      "source": [
        "AND = {\n",
        "    \"x1\": [0,0,1,1],\n",
        "    \"x2\": [0,1,0,1],\n",
        "    \"y\" : [0,0,0,1]\n",
        "}\n",
        "\n",
        "df_AND = pd.DataFrame(AND)\n",
        "\n",
        "df_AND"
      ],
      "metadata": {
        "colab": {
          "base_uri": "https://localhost:8080/",
          "height": 175
        },
        "id": "raEWXj9AYXZ6",
        "outputId": "b4e44c22-e84e-4a7c-cc93-e33fea9071f1"
      },
      "execution_count": 82,
      "outputs": [
        {
          "output_type": "execute_result",
          "data": {
            "text/plain": [
              "   x1  x2  y\n",
              "0   0   0  0\n",
              "1   0   1  0\n",
              "2   1   0  0\n",
              "3   1   1  1"
            ],
            "text/html": [
              "\n",
              "  <div id=\"df-2ab1abe0-f77c-4c87-8956-9ab90c97b48f\">\n",
              "    <div class=\"colab-df-container\">\n",
              "      <div>\n",
              "<style scoped>\n",
              "    .dataframe tbody tr th:only-of-type {\n",
              "        vertical-align: middle;\n",
              "    }\n",
              "\n",
              "    .dataframe tbody tr th {\n",
              "        vertical-align: top;\n",
              "    }\n",
              "\n",
              "    .dataframe thead th {\n",
              "        text-align: right;\n",
              "    }\n",
              "</style>\n",
              "<table border=\"1\" class=\"dataframe\">\n",
              "  <thead>\n",
              "    <tr style=\"text-align: right;\">\n",
              "      <th></th>\n",
              "      <th>x1</th>\n",
              "      <th>x2</th>\n",
              "      <th>y</th>\n",
              "    </tr>\n",
              "  </thead>\n",
              "  <tbody>\n",
              "    <tr>\n",
              "      <th>0</th>\n",
              "      <td>0</td>\n",
              "      <td>0</td>\n",
              "      <td>0</td>\n",
              "    </tr>\n",
              "    <tr>\n",
              "      <th>1</th>\n",
              "      <td>0</td>\n",
              "      <td>1</td>\n",
              "      <td>0</td>\n",
              "    </tr>\n",
              "    <tr>\n",
              "      <th>2</th>\n",
              "      <td>1</td>\n",
              "      <td>0</td>\n",
              "      <td>0</td>\n",
              "    </tr>\n",
              "    <tr>\n",
              "      <th>3</th>\n",
              "      <td>1</td>\n",
              "      <td>1</td>\n",
              "      <td>1</td>\n",
              "    </tr>\n",
              "  </tbody>\n",
              "</table>\n",
              "</div>\n",
              "      <button class=\"colab-df-convert\" onclick=\"convertToInteractive('df-2ab1abe0-f77c-4c87-8956-9ab90c97b48f')\"\n",
              "              title=\"Convert this dataframe to an interactive table.\"\n",
              "              style=\"display:none;\">\n",
              "        \n",
              "  <svg xmlns=\"http://www.w3.org/2000/svg\" height=\"24px\"viewBox=\"0 0 24 24\"\n",
              "       width=\"24px\">\n",
              "    <path d=\"M0 0h24v24H0V0z\" fill=\"none\"/>\n",
              "    <path d=\"M18.56 5.44l.94 2.06.94-2.06 2.06-.94-2.06-.94-.94-2.06-.94 2.06-2.06.94zm-11 1L8.5 8.5l.94-2.06 2.06-.94-2.06-.94L8.5 2.5l-.94 2.06-2.06.94zm10 10l.94 2.06.94-2.06 2.06-.94-2.06-.94-.94-2.06-.94 2.06-2.06.94z\"/><path d=\"M17.41 7.96l-1.37-1.37c-.4-.4-.92-.59-1.43-.59-.52 0-1.04.2-1.43.59L10.3 9.45l-7.72 7.72c-.78.78-.78 2.05 0 2.83L4 21.41c.39.39.9.59 1.41.59.51 0 1.02-.2 1.41-.59l7.78-7.78 2.81-2.81c.8-.78.8-2.07 0-2.86zM5.41 20L4 18.59l7.72-7.72 1.47 1.35L5.41 20z\"/>\n",
              "  </svg>\n",
              "      </button>\n",
              "      \n",
              "  <style>\n",
              "    .colab-df-container {\n",
              "      display:flex;\n",
              "      flex-wrap:wrap;\n",
              "      gap: 12px;\n",
              "    }\n",
              "\n",
              "    .colab-df-convert {\n",
              "      background-color: #E8F0FE;\n",
              "      border: none;\n",
              "      border-radius: 50%;\n",
              "      cursor: pointer;\n",
              "      display: none;\n",
              "      fill: #1967D2;\n",
              "      height: 32px;\n",
              "      padding: 0 0 0 0;\n",
              "      width: 32px;\n",
              "    }\n",
              "\n",
              "    .colab-df-convert:hover {\n",
              "      background-color: #E2EBFA;\n",
              "      box-shadow: 0px 1px 2px rgba(60, 64, 67, 0.3), 0px 1px 3px 1px rgba(60, 64, 67, 0.15);\n",
              "      fill: #174EA6;\n",
              "    }\n",
              "\n",
              "    [theme=dark] .colab-df-convert {\n",
              "      background-color: #3B4455;\n",
              "      fill: #D2E3FC;\n",
              "    }\n",
              "\n",
              "    [theme=dark] .colab-df-convert:hover {\n",
              "      background-color: #434B5C;\n",
              "      box-shadow: 0px 1px 3px 1px rgba(0, 0, 0, 0.15);\n",
              "      filter: drop-shadow(0px 1px 2px rgba(0, 0, 0, 0.3));\n",
              "      fill: #FFFFFF;\n",
              "    }\n",
              "  </style>\n",
              "\n",
              "      <script>\n",
              "        const buttonEl =\n",
              "          document.querySelector('#df-2ab1abe0-f77c-4c87-8956-9ab90c97b48f button.colab-df-convert');\n",
              "        buttonEl.style.display =\n",
              "          google.colab.kernel.accessAllowed ? 'block' : 'none';\n",
              "\n",
              "        async function convertToInteractive(key) {\n",
              "          const element = document.querySelector('#df-2ab1abe0-f77c-4c87-8956-9ab90c97b48f');\n",
              "          const dataTable =\n",
              "            await google.colab.kernel.invokeFunction('convertToInteractive',\n",
              "                                                     [key], {});\n",
              "          if (!dataTable) return;\n",
              "\n",
              "          const docLinkHtml = 'Like what you see? Visit the ' +\n",
              "            '<a target=\"_blank\" href=https://colab.research.google.com/notebooks/data_table.ipynb>data table notebook</a>'\n",
              "            + ' to learn more about interactive tables.';\n",
              "          element.innerHTML = '';\n",
              "          dataTable['output_type'] = 'display_data';\n",
              "          await google.colab.output.renderOutput(dataTable, element);\n",
              "          const docLink = document.createElement('div');\n",
              "          docLink.innerHTML = docLinkHtml;\n",
              "          element.appendChild(docLink);\n",
              "        }\n",
              "      </script>\n",
              "    </div>\n",
              "  </div>\n",
              "  "
            ]
          },
          "metadata": {},
          "execution_count": 82
        }
      ]
    },
    {
      "cell_type": "code",
      "source": [
        "X, y = prepare_data(df_AND)\n",
        "\n",
        "ETA = 0.1 # 0 and 1\n",
        "EPOCHS = 10\n",
        "\n",
        "model_and = Perceptron(eta=ETA, epochs=EPOCHS)\n",
        "model_and.fit(X, y)\n",
        "\n",
        "_ = model_and.total_loss()"
      ],
      "metadata": {
        "colab": {
          "base_uri": "https://localhost:8080/"
        },
        "id": "QskHraLsYXXu",
        "outputId": "3d6899df-2b9a-4cbd-c625-f74965456607"
      },
      "execution_count": 84,
      "outputs": [
        {
          "output_type": "stream",
          "name": "stdout",
          "text": [
            "initial weights before training: \n",
            "[2.44649199e-05 7.01180755e-05 8.09107666e-05]\n",
            "\n",
            "X with bias: \n",
            "[[ 0.  0. -1.]\n",
            " [ 0.  1. -1.]\n",
            " [ 1.  0. -1.]\n",
            " [ 1.  1. -1.]]\n",
            "--------------------\n",
            "for epoch >> 0\n",
            "--------------------\n",
            "predicted value after forward pass: \n",
            "[0 0 0 1]\n",
            "error: \n",
            "0    0\n",
            "1    0\n",
            "2    0\n",
            "3    0\n",
            "Name: y, dtype: int64\n",
            "updated weights after epoch: 1/10: \n",
            "[2.44649199e-05 7.01180755e-05 8.09107666e-05]\n",
            "####################\n",
            "--------------------\n",
            "for epoch >> 1\n",
            "--------------------\n",
            "predicted value after forward pass: \n",
            "[0 0 0 1]\n",
            "error: \n",
            "0    0\n",
            "1    0\n",
            "2    0\n",
            "3    0\n",
            "Name: y, dtype: int64\n",
            "updated weights after epoch: 2/10: \n",
            "[2.44649199e-05 7.01180755e-05 8.09107666e-05]\n",
            "####################\n",
            "--------------------\n",
            "for epoch >> 2\n",
            "--------------------\n",
            "predicted value after forward pass: \n",
            "[0 0 0 1]\n",
            "error: \n",
            "0    0\n",
            "1    0\n",
            "2    0\n",
            "3    0\n",
            "Name: y, dtype: int64\n",
            "updated weights after epoch: 3/10: \n",
            "[2.44649199e-05 7.01180755e-05 8.09107666e-05]\n",
            "####################\n",
            "--------------------\n",
            "for epoch >> 3\n",
            "--------------------\n",
            "predicted value after forward pass: \n",
            "[0 0 0 1]\n",
            "error: \n",
            "0    0\n",
            "1    0\n",
            "2    0\n",
            "3    0\n",
            "Name: y, dtype: int64\n",
            "updated weights after epoch: 4/10: \n",
            "[2.44649199e-05 7.01180755e-05 8.09107666e-05]\n",
            "####################\n",
            "--------------------\n",
            "for epoch >> 4\n",
            "--------------------\n",
            "predicted value after forward pass: \n",
            "[0 0 0 1]\n",
            "error: \n",
            "0    0\n",
            "1    0\n",
            "2    0\n",
            "3    0\n",
            "Name: y, dtype: int64\n",
            "updated weights after epoch: 5/10: \n",
            "[2.44649199e-05 7.01180755e-05 8.09107666e-05]\n",
            "####################\n",
            "--------------------\n",
            "for epoch >> 5\n",
            "--------------------\n",
            "predicted value after forward pass: \n",
            "[0 0 0 1]\n",
            "error: \n",
            "0    0\n",
            "1    0\n",
            "2    0\n",
            "3    0\n",
            "Name: y, dtype: int64\n",
            "updated weights after epoch: 6/10: \n",
            "[2.44649199e-05 7.01180755e-05 8.09107666e-05]\n",
            "####################\n",
            "--------------------\n",
            "for epoch >> 6\n",
            "--------------------\n",
            "predicted value after forward pass: \n",
            "[0 0 0 1]\n",
            "error: \n",
            "0    0\n",
            "1    0\n",
            "2    0\n",
            "3    0\n",
            "Name: y, dtype: int64\n",
            "updated weights after epoch: 7/10: \n",
            "[2.44649199e-05 7.01180755e-05 8.09107666e-05]\n",
            "####################\n",
            "--------------------\n",
            "for epoch >> 7\n",
            "--------------------\n",
            "predicted value after forward pass: \n",
            "[0 0 0 1]\n",
            "error: \n",
            "0    0\n",
            "1    0\n",
            "2    0\n",
            "3    0\n",
            "Name: y, dtype: int64\n",
            "updated weights after epoch: 8/10: \n",
            "[2.44649199e-05 7.01180755e-05 8.09107666e-05]\n",
            "####################\n",
            "--------------------\n",
            "for epoch >> 8\n",
            "--------------------\n",
            "predicted value after forward pass: \n",
            "[0 0 0 1]\n",
            "error: \n",
            "0    0\n",
            "1    0\n",
            "2    0\n",
            "3    0\n",
            "Name: y, dtype: int64\n",
            "updated weights after epoch: 9/10: \n",
            "[2.44649199e-05 7.01180755e-05 8.09107666e-05]\n",
            "####################\n",
            "--------------------\n",
            "for epoch >> 9\n",
            "--------------------\n",
            "predicted value after forward pass: \n",
            "[0 0 0 1]\n",
            "error: \n",
            "0    0\n",
            "1    0\n",
            "2    0\n",
            "3    0\n",
            "Name: y, dtype: int64\n",
            "updated weights after epoch: 10/10: \n",
            "[2.44649199e-05 7.01180755e-05 8.09107666e-05]\n",
            "####################\n",
            "\n",
            "total loss: 0\n",
            "\n"
          ]
        }
      ]
    },
    {
      "cell_type": "code",
      "source": [
        "model_and.save(filename=\"and.model\")"
      ],
      "metadata": {
        "id": "avioz2O-WqOn"
      },
      "execution_count": 85,
      "outputs": []
    },
    {
      "cell_type": "code",
      "source": [
        "reload_model_and = Perceptron().load(filepath=\"model/and.model\")\n"
      ],
      "metadata": {
        "id": "LoWhB_0WYXTR"
      },
      "execution_count": 86,
      "outputs": []
    },
    {
      "cell_type": "code",
      "source": [
        "reload_model_and.predict(X=[[1,1]])"
      ],
      "metadata": {
        "colab": {
          "base_uri": "https://localhost:8080/"
        },
        "id": "9xNKWfmFYXRX",
        "outputId": "6930cd4f-8bfb-4a8c-f125-7ab9c86d9ef2"
      },
      "execution_count": 87,
      "outputs": [
        {
          "output_type": "execute_result",
          "data": {
            "text/plain": [
              "array([1])"
            ]
          },
          "metadata": {},
          "execution_count": 87
        }
      ]
    },
    {
      "cell_type": "code",
      "source": [
        "OR = {\n",
        "    \"x1\": [0,0,1,1],\n",
        "    \"x2\": [0,1,0,1],\n",
        "    \"y\" : [0,1,1,1]\n",
        "}\n",
        "\n",
        "df_OR = pd.DataFrame(OR)\n",
        "\n",
        "df_OR"
      ],
      "metadata": {
        "colab": {
          "base_uri": "https://localhost:8080/",
          "height": 175
        },
        "id": "Lr7X5mSTWwwp",
        "outputId": "d8eab024-aec5-4954-e6b0-95117679f129"
      },
      "execution_count": 88,
      "outputs": [
        {
          "output_type": "execute_result",
          "data": {
            "text/plain": [
              "   x1  x2  y\n",
              "0   0   0  0\n",
              "1   0   1  1\n",
              "2   1   0  1\n",
              "3   1   1  1"
            ],
            "text/html": [
              "\n",
              "  <div id=\"df-33d18019-634c-49ae-ab70-9d32688fd636\">\n",
              "    <div class=\"colab-df-container\">\n",
              "      <div>\n",
              "<style scoped>\n",
              "    .dataframe tbody tr th:only-of-type {\n",
              "        vertical-align: middle;\n",
              "    }\n",
              "\n",
              "    .dataframe tbody tr th {\n",
              "        vertical-align: top;\n",
              "    }\n",
              "\n",
              "    .dataframe thead th {\n",
              "        text-align: right;\n",
              "    }\n",
              "</style>\n",
              "<table border=\"1\" class=\"dataframe\">\n",
              "  <thead>\n",
              "    <tr style=\"text-align: right;\">\n",
              "      <th></th>\n",
              "      <th>x1</th>\n",
              "      <th>x2</th>\n",
              "      <th>y</th>\n",
              "    </tr>\n",
              "  </thead>\n",
              "  <tbody>\n",
              "    <tr>\n",
              "      <th>0</th>\n",
              "      <td>0</td>\n",
              "      <td>0</td>\n",
              "      <td>0</td>\n",
              "    </tr>\n",
              "    <tr>\n",
              "      <th>1</th>\n",
              "      <td>0</td>\n",
              "      <td>1</td>\n",
              "      <td>1</td>\n",
              "    </tr>\n",
              "    <tr>\n",
              "      <th>2</th>\n",
              "      <td>1</td>\n",
              "      <td>0</td>\n",
              "      <td>1</td>\n",
              "    </tr>\n",
              "    <tr>\n",
              "      <th>3</th>\n",
              "      <td>1</td>\n",
              "      <td>1</td>\n",
              "      <td>1</td>\n",
              "    </tr>\n",
              "  </tbody>\n",
              "</table>\n",
              "</div>\n",
              "      <button class=\"colab-df-convert\" onclick=\"convertToInteractive('df-33d18019-634c-49ae-ab70-9d32688fd636')\"\n",
              "              title=\"Convert this dataframe to an interactive table.\"\n",
              "              style=\"display:none;\">\n",
              "        \n",
              "  <svg xmlns=\"http://www.w3.org/2000/svg\" height=\"24px\"viewBox=\"0 0 24 24\"\n",
              "       width=\"24px\">\n",
              "    <path d=\"M0 0h24v24H0V0z\" fill=\"none\"/>\n",
              "    <path d=\"M18.56 5.44l.94 2.06.94-2.06 2.06-.94-2.06-.94-.94-2.06-.94 2.06-2.06.94zm-11 1L8.5 8.5l.94-2.06 2.06-.94-2.06-.94L8.5 2.5l-.94 2.06-2.06.94zm10 10l.94 2.06.94-2.06 2.06-.94-2.06-.94-.94-2.06-.94 2.06-2.06.94z\"/><path d=\"M17.41 7.96l-1.37-1.37c-.4-.4-.92-.59-1.43-.59-.52 0-1.04.2-1.43.59L10.3 9.45l-7.72 7.72c-.78.78-.78 2.05 0 2.83L4 21.41c.39.39.9.59 1.41.59.51 0 1.02-.2 1.41-.59l7.78-7.78 2.81-2.81c.8-.78.8-2.07 0-2.86zM5.41 20L4 18.59l7.72-7.72 1.47 1.35L5.41 20z\"/>\n",
              "  </svg>\n",
              "      </button>\n",
              "      \n",
              "  <style>\n",
              "    .colab-df-container {\n",
              "      display:flex;\n",
              "      flex-wrap:wrap;\n",
              "      gap: 12px;\n",
              "    }\n",
              "\n",
              "    .colab-df-convert {\n",
              "      background-color: #E8F0FE;\n",
              "      border: none;\n",
              "      border-radius: 50%;\n",
              "      cursor: pointer;\n",
              "      display: none;\n",
              "      fill: #1967D2;\n",
              "      height: 32px;\n",
              "      padding: 0 0 0 0;\n",
              "      width: 32px;\n",
              "    }\n",
              "\n",
              "    .colab-df-convert:hover {\n",
              "      background-color: #E2EBFA;\n",
              "      box-shadow: 0px 1px 2px rgba(60, 64, 67, 0.3), 0px 1px 3px 1px rgba(60, 64, 67, 0.15);\n",
              "      fill: #174EA6;\n",
              "    }\n",
              "\n",
              "    [theme=dark] .colab-df-convert {\n",
              "      background-color: #3B4455;\n",
              "      fill: #D2E3FC;\n",
              "    }\n",
              "\n",
              "    [theme=dark] .colab-df-convert:hover {\n",
              "      background-color: #434B5C;\n",
              "      box-shadow: 0px 1px 3px 1px rgba(0, 0, 0, 0.15);\n",
              "      filter: drop-shadow(0px 1px 2px rgba(0, 0, 0, 0.3));\n",
              "      fill: #FFFFFF;\n",
              "    }\n",
              "  </style>\n",
              "\n",
              "      <script>\n",
              "        const buttonEl =\n",
              "          document.querySelector('#df-33d18019-634c-49ae-ab70-9d32688fd636 button.colab-df-convert');\n",
              "        buttonEl.style.display =\n",
              "          google.colab.kernel.accessAllowed ? 'block' : 'none';\n",
              "\n",
              "        async function convertToInteractive(key) {\n",
              "          const element = document.querySelector('#df-33d18019-634c-49ae-ab70-9d32688fd636');\n",
              "          const dataTable =\n",
              "            await google.colab.kernel.invokeFunction('convertToInteractive',\n",
              "                                                     [key], {});\n",
              "          if (!dataTable) return;\n",
              "\n",
              "          const docLinkHtml = 'Like what you see? Visit the ' +\n",
              "            '<a target=\"_blank\" href=https://colab.research.google.com/notebooks/data_table.ipynb>data table notebook</a>'\n",
              "            + ' to learn more about interactive tables.';\n",
              "          element.innerHTML = '';\n",
              "          dataTable['output_type'] = 'display_data';\n",
              "          await google.colab.output.renderOutput(dataTable, element);\n",
              "          const docLink = document.createElement('div');\n",
              "          docLink.innerHTML = docLinkHtml;\n",
              "          element.appendChild(docLink);\n",
              "        }\n",
              "      </script>\n",
              "    </div>\n",
              "  </div>\n",
              "  "
            ]
          },
          "metadata": {},
          "execution_count": 88
        }
      ]
    },
    {
      "cell_type": "code",
      "source": [
        "X, y = prepare_data(df_OR)\n",
        "\n",
        "ETA = 0.1 # 0 and 1\n",
        "EPOCHS = 10\n",
        "\n",
        "model_or = Perceptron(eta=ETA, epochs=EPOCHS)\n",
        "model_or.fit(X, y)\n",
        "\n",
        "_ = model_or.total_loss()"
      ],
      "metadata": {
        "colab": {
          "base_uri": "https://localhost:8080/"
        },
        "id": "Pte46pMJVj54",
        "outputId": "117cbc54-f391-41ce-e8cc-d061b793ef4f"
      },
      "execution_count": 89,
      "outputs": [
        {
          "output_type": "stream",
          "name": "stdout",
          "text": [
            "initial weights before training: \n",
            "[ 1.58481425e-04  1.33453512e-05 -2.29745216e-05]\n",
            "\n",
            "X with bias: \n",
            "[[ 0.  0. -1.]\n",
            " [ 0.  1. -1.]\n",
            " [ 1.  0. -1.]\n",
            " [ 1.  1. -1.]]\n",
            "--------------------\n",
            "for epoch >> 0\n",
            "--------------------\n",
            "predicted value after forward pass: \n",
            "[1 1 1 1]\n",
            "error: \n",
            "0   -1\n",
            "1    0\n",
            "2    0\n",
            "3    0\n",
            "Name: y, dtype: int64\n",
            "updated weights after epoch: 1/10: \n",
            "[1.58481425e-04 1.33453512e-05 9.99770255e-02]\n",
            "####################\n",
            "--------------------\n",
            "for epoch >> 1\n",
            "--------------------\n",
            "predicted value after forward pass: \n",
            "[0 0 0 0]\n",
            "error: \n",
            "0    0\n",
            "1    1\n",
            "2    1\n",
            "3    1\n",
            "Name: y, dtype: int64\n",
            "updated weights after epoch: 2/10: \n",
            "[ 0.20015848  0.20001335 -0.20002297]\n",
            "####################\n",
            "--------------------\n",
            "for epoch >> 2\n",
            "--------------------\n",
            "predicted value after forward pass: \n",
            "[1 1 1 1]\n",
            "error: \n",
            "0   -1\n",
            "1    0\n",
            "2    0\n",
            "3    0\n",
            "Name: y, dtype: int64\n",
            "updated weights after epoch: 3/10: \n",
            "[ 0.20015848  0.20001335 -0.10002297]\n",
            "####################\n",
            "--------------------\n",
            "for epoch >> 3\n",
            "--------------------\n",
            "predicted value after forward pass: \n",
            "[1 1 1 1]\n",
            "error: \n",
            "0   -1\n",
            "1    0\n",
            "2    0\n",
            "3    0\n",
            "Name: y, dtype: int64\n",
            "updated weights after epoch: 4/10: \n",
            "[ 2.00158481e-01  2.00013345e-01 -2.29745216e-05]\n",
            "####################\n",
            "--------------------\n",
            "for epoch >> 4\n",
            "--------------------\n",
            "predicted value after forward pass: \n",
            "[1 1 1 1]\n",
            "error: \n",
            "0   -1\n",
            "1    0\n",
            "2    0\n",
            "3    0\n",
            "Name: y, dtype: int64\n",
            "updated weights after epoch: 5/10: \n",
            "[0.20015848 0.20001335 0.09997703]\n",
            "####################\n",
            "--------------------\n",
            "for epoch >> 5\n",
            "--------------------\n",
            "predicted value after forward pass: \n",
            "[0 1 1 1]\n",
            "error: \n",
            "0    0\n",
            "1    0\n",
            "2    0\n",
            "3    0\n",
            "Name: y, dtype: int64\n",
            "updated weights after epoch: 6/10: \n",
            "[0.20015848 0.20001335 0.09997703]\n",
            "####################\n",
            "--------------------\n",
            "for epoch >> 6\n",
            "--------------------\n",
            "predicted value after forward pass: \n",
            "[0 1 1 1]\n",
            "error: \n",
            "0    0\n",
            "1    0\n",
            "2    0\n",
            "3    0\n",
            "Name: y, dtype: int64\n",
            "updated weights after epoch: 7/10: \n",
            "[0.20015848 0.20001335 0.09997703]\n",
            "####################\n",
            "--------------------\n",
            "for epoch >> 7\n",
            "--------------------\n",
            "predicted value after forward pass: \n",
            "[0 1 1 1]\n",
            "error: \n",
            "0    0\n",
            "1    0\n",
            "2    0\n",
            "3    0\n",
            "Name: y, dtype: int64\n",
            "updated weights after epoch: 8/10: \n",
            "[0.20015848 0.20001335 0.09997703]\n",
            "####################\n",
            "--------------------\n",
            "for epoch >> 8\n",
            "--------------------\n",
            "predicted value after forward pass: \n",
            "[0 1 1 1]\n",
            "error: \n",
            "0    0\n",
            "1    0\n",
            "2    0\n",
            "3    0\n",
            "Name: y, dtype: int64\n",
            "updated weights after epoch: 9/10: \n",
            "[0.20015848 0.20001335 0.09997703]\n",
            "####################\n",
            "--------------------\n",
            "for epoch >> 9\n",
            "--------------------\n",
            "predicted value after forward pass: \n",
            "[0 1 1 1]\n",
            "error: \n",
            "0    0\n",
            "1    0\n",
            "2    0\n",
            "3    0\n",
            "Name: y, dtype: int64\n",
            "updated weights after epoch: 10/10: \n",
            "[0.20015848 0.20001335 0.09997703]\n",
            "####################\n",
            "\n",
            "total loss: 0\n",
            "\n"
          ]
        }
      ]
    },
    {
      "cell_type": "code",
      "source": [
        "model_or.save(filename=\"or.model\", model_dir=\"model_or\")"
      ],
      "metadata": {
        "id": "BQutU_j5YXOz"
      },
      "execution_count": 90,
      "outputs": []
    },
    {
      "cell_type": "code",
      "source": [
        "XOR = {\n",
        "    \"x1\": [0,0,1,1],\n",
        "    \"x2\": [0,1,0,1],\n",
        "    \"y\" : [0,1,1,0]\n",
        "}\n",
        "\n",
        "df_XOR = pd.DataFrame(XOR)\n",
        "\n",
        "df_XOR"
      ],
      "metadata": {
        "colab": {
          "base_uri": "https://localhost:8080/",
          "height": 175
        },
        "id": "bCdTm2HJVKYY",
        "outputId": "b70e0685-8931-4d46-cdcb-e913c723ee64"
      },
      "execution_count": 91,
      "outputs": [
        {
          "output_type": "execute_result",
          "data": {
            "text/plain": [
              "   x1  x2  y\n",
              "0   0   0  0\n",
              "1   0   1  1\n",
              "2   1   0  1\n",
              "3   1   1  0"
            ],
            "text/html": [
              "\n",
              "  <div id=\"df-798c671a-31e1-41d5-b9bd-a2808271e3d5\">\n",
              "    <div class=\"colab-df-container\">\n",
              "      <div>\n",
              "<style scoped>\n",
              "    .dataframe tbody tr th:only-of-type {\n",
              "        vertical-align: middle;\n",
              "    }\n",
              "\n",
              "    .dataframe tbody tr th {\n",
              "        vertical-align: top;\n",
              "    }\n",
              "\n",
              "    .dataframe thead th {\n",
              "        text-align: right;\n",
              "    }\n",
              "</style>\n",
              "<table border=\"1\" class=\"dataframe\">\n",
              "  <thead>\n",
              "    <tr style=\"text-align: right;\">\n",
              "      <th></th>\n",
              "      <th>x1</th>\n",
              "      <th>x2</th>\n",
              "      <th>y</th>\n",
              "    </tr>\n",
              "  </thead>\n",
              "  <tbody>\n",
              "    <tr>\n",
              "      <th>0</th>\n",
              "      <td>0</td>\n",
              "      <td>0</td>\n",
              "      <td>0</td>\n",
              "    </tr>\n",
              "    <tr>\n",
              "      <th>1</th>\n",
              "      <td>0</td>\n",
              "      <td>1</td>\n",
              "      <td>1</td>\n",
              "    </tr>\n",
              "    <tr>\n",
              "      <th>2</th>\n",
              "      <td>1</td>\n",
              "      <td>0</td>\n",
              "      <td>1</td>\n",
              "    </tr>\n",
              "    <tr>\n",
              "      <th>3</th>\n",
              "      <td>1</td>\n",
              "      <td>1</td>\n",
              "      <td>0</td>\n",
              "    </tr>\n",
              "  </tbody>\n",
              "</table>\n",
              "</div>\n",
              "      <button class=\"colab-df-convert\" onclick=\"convertToInteractive('df-798c671a-31e1-41d5-b9bd-a2808271e3d5')\"\n",
              "              title=\"Convert this dataframe to an interactive table.\"\n",
              "              style=\"display:none;\">\n",
              "        \n",
              "  <svg xmlns=\"http://www.w3.org/2000/svg\" height=\"24px\"viewBox=\"0 0 24 24\"\n",
              "       width=\"24px\">\n",
              "    <path d=\"M0 0h24v24H0V0z\" fill=\"none\"/>\n",
              "    <path d=\"M18.56 5.44l.94 2.06.94-2.06 2.06-.94-2.06-.94-.94-2.06-.94 2.06-2.06.94zm-11 1L8.5 8.5l.94-2.06 2.06-.94-2.06-.94L8.5 2.5l-.94 2.06-2.06.94zm10 10l.94 2.06.94-2.06 2.06-.94-2.06-.94-.94-2.06-.94 2.06-2.06.94z\"/><path d=\"M17.41 7.96l-1.37-1.37c-.4-.4-.92-.59-1.43-.59-.52 0-1.04.2-1.43.59L10.3 9.45l-7.72 7.72c-.78.78-.78 2.05 0 2.83L4 21.41c.39.39.9.59 1.41.59.51 0 1.02-.2 1.41-.59l7.78-7.78 2.81-2.81c.8-.78.8-2.07 0-2.86zM5.41 20L4 18.59l7.72-7.72 1.47 1.35L5.41 20z\"/>\n",
              "  </svg>\n",
              "      </button>\n",
              "      \n",
              "  <style>\n",
              "    .colab-df-container {\n",
              "      display:flex;\n",
              "      flex-wrap:wrap;\n",
              "      gap: 12px;\n",
              "    }\n",
              "\n",
              "    .colab-df-convert {\n",
              "      background-color: #E8F0FE;\n",
              "      border: none;\n",
              "      border-radius: 50%;\n",
              "      cursor: pointer;\n",
              "      display: none;\n",
              "      fill: #1967D2;\n",
              "      height: 32px;\n",
              "      padding: 0 0 0 0;\n",
              "      width: 32px;\n",
              "    }\n",
              "\n",
              "    .colab-df-convert:hover {\n",
              "      background-color: #E2EBFA;\n",
              "      box-shadow: 0px 1px 2px rgba(60, 64, 67, 0.3), 0px 1px 3px 1px rgba(60, 64, 67, 0.15);\n",
              "      fill: #174EA6;\n",
              "    }\n",
              "\n",
              "    [theme=dark] .colab-df-convert {\n",
              "      background-color: #3B4455;\n",
              "      fill: #D2E3FC;\n",
              "    }\n",
              "\n",
              "    [theme=dark] .colab-df-convert:hover {\n",
              "      background-color: #434B5C;\n",
              "      box-shadow: 0px 1px 3px 1px rgba(0, 0, 0, 0.15);\n",
              "      filter: drop-shadow(0px 1px 2px rgba(0, 0, 0, 0.3));\n",
              "      fill: #FFFFFF;\n",
              "    }\n",
              "  </style>\n",
              "\n",
              "      <script>\n",
              "        const buttonEl =\n",
              "          document.querySelector('#df-798c671a-31e1-41d5-b9bd-a2808271e3d5 button.colab-df-convert');\n",
              "        buttonEl.style.display =\n",
              "          google.colab.kernel.accessAllowed ? 'block' : 'none';\n",
              "\n",
              "        async function convertToInteractive(key) {\n",
              "          const element = document.querySelector('#df-798c671a-31e1-41d5-b9bd-a2808271e3d5');\n",
              "          const dataTable =\n",
              "            await google.colab.kernel.invokeFunction('convertToInteractive',\n",
              "                                                     [key], {});\n",
              "          if (!dataTable) return;\n",
              "\n",
              "          const docLinkHtml = 'Like what you see? Visit the ' +\n",
              "            '<a target=\"_blank\" href=https://colab.research.google.com/notebooks/data_table.ipynb>data table notebook</a>'\n",
              "            + ' to learn more about interactive tables.';\n",
              "          element.innerHTML = '';\n",
              "          dataTable['output_type'] = 'display_data';\n",
              "          await google.colab.output.renderOutput(dataTable, element);\n",
              "          const docLink = document.createElement('div');\n",
              "          docLink.innerHTML = docLinkHtml;\n",
              "          element.appendChild(docLink);\n",
              "        }\n",
              "      </script>\n",
              "    </div>\n",
              "  </div>\n",
              "  "
            ]
          },
          "metadata": {},
          "execution_count": 91
        }
      ]
    },
    {
      "cell_type": "code",
      "source": [
        "X, y = prepare_data(df_XOR)\n",
        "\n",
        "ETA = 0.1 # 0 and 1\n",
        "EPOCHS = 10\n",
        "\n",
        "model_xor = Perceptron(eta=ETA, epochs=EPOCHS)\n",
        "model_xor.fit(X, y)\n",
        "\n",
        "_ = model_xor.total_loss()"
      ],
      "metadata": {
        "colab": {
          "base_uri": "https://localhost:8080/"
        },
        "id": "KDcC-pO_VKN5",
        "outputId": "16b311b2-3b33-400d-af2a-634aaf4080fd"
      },
      "execution_count": 92,
      "outputs": [
        {
          "output_type": "stream",
          "name": "stdout",
          "text": [
            "initial weights before training: \n",
            "[ 1.11796451e-04  2.35866678e-05 -3.16928402e-05]\n",
            "\n",
            "X with bias: \n",
            "[[ 0.  0. -1.]\n",
            " [ 0.  1. -1.]\n",
            " [ 1.  0. -1.]\n",
            " [ 1.  1. -1.]]\n",
            "--------------------\n",
            "for epoch >> 0\n",
            "--------------------\n",
            "predicted value after forward pass: \n",
            "[1 1 1 1]\n",
            "error: \n",
            "0   -1\n",
            "1    0\n",
            "2    0\n",
            "3   -1\n",
            "Name: y, dtype: int64\n",
            "updated weights after epoch: 1/10: \n",
            "[-0.0998882  -0.09997641  0.19996831]\n",
            "####################\n",
            "--------------------\n",
            "for epoch >> 1\n",
            "--------------------\n",
            "predicted value after forward pass: \n",
            "[0 0 0 0]\n",
            "error: \n",
            "0    0\n",
            "1    1\n",
            "2    1\n",
            "3    0\n",
            "Name: y, dtype: int64\n",
            "updated weights after epoch: 2/10: \n",
            "[ 1.11796451e-04  2.35866678e-05 -3.16928402e-05]\n",
            "####################\n",
            "--------------------\n",
            "for epoch >> 2\n",
            "--------------------\n",
            "predicted value after forward pass: \n",
            "[1 1 1 1]\n",
            "error: \n",
            "0   -1\n",
            "1    0\n",
            "2    0\n",
            "3   -1\n",
            "Name: y, dtype: int64\n",
            "updated weights after epoch: 3/10: \n",
            "[-0.0998882  -0.09997641  0.19996831]\n",
            "####################\n",
            "--------------------\n",
            "for epoch >> 3\n",
            "--------------------\n",
            "predicted value after forward pass: \n",
            "[0 0 0 0]\n",
            "error: \n",
            "0    0\n",
            "1    1\n",
            "2    1\n",
            "3    0\n",
            "Name: y, dtype: int64\n",
            "updated weights after epoch: 4/10: \n",
            "[ 1.11796451e-04  2.35866678e-05 -3.16928402e-05]\n",
            "####################\n",
            "--------------------\n",
            "for epoch >> 4\n",
            "--------------------\n",
            "predicted value after forward pass: \n",
            "[1 1 1 1]\n",
            "error: \n",
            "0   -1\n",
            "1    0\n",
            "2    0\n",
            "3   -1\n",
            "Name: y, dtype: int64\n",
            "updated weights after epoch: 5/10: \n",
            "[-0.0998882  -0.09997641  0.19996831]\n",
            "####################\n",
            "--------------------\n",
            "for epoch >> 5\n",
            "--------------------\n",
            "predicted value after forward pass: \n",
            "[0 0 0 0]\n",
            "error: \n",
            "0    0\n",
            "1    1\n",
            "2    1\n",
            "3    0\n",
            "Name: y, dtype: int64\n",
            "updated weights after epoch: 6/10: \n",
            "[ 1.11796451e-04  2.35866678e-05 -3.16928402e-05]\n",
            "####################\n",
            "--------------------\n",
            "for epoch >> 6\n",
            "--------------------\n",
            "predicted value after forward pass: \n",
            "[1 1 1 1]\n",
            "error: \n",
            "0   -1\n",
            "1    0\n",
            "2    0\n",
            "3   -1\n",
            "Name: y, dtype: int64\n",
            "updated weights after epoch: 7/10: \n",
            "[-0.0998882  -0.09997641  0.19996831]\n",
            "####################\n",
            "--------------------\n",
            "for epoch >> 7\n",
            "--------------------\n",
            "predicted value after forward pass: \n",
            "[0 0 0 0]\n",
            "error: \n",
            "0    0\n",
            "1    1\n",
            "2    1\n",
            "3    0\n",
            "Name: y, dtype: int64\n",
            "updated weights after epoch: 8/10: \n",
            "[ 1.11796451e-04  2.35866678e-05 -3.16928402e-05]\n",
            "####################\n",
            "--------------------\n",
            "for epoch >> 8\n",
            "--------------------\n",
            "predicted value after forward pass: \n",
            "[1 1 1 1]\n",
            "error: \n",
            "0   -1\n",
            "1    0\n",
            "2    0\n",
            "3   -1\n",
            "Name: y, dtype: int64\n",
            "updated weights after epoch: 9/10: \n",
            "[-0.0998882  -0.09997641  0.19996831]\n",
            "####################\n",
            "--------------------\n",
            "for epoch >> 9\n",
            "--------------------\n",
            "predicted value after forward pass: \n",
            "[0 0 0 0]\n",
            "error: \n",
            "0    0\n",
            "1    1\n",
            "2    1\n",
            "3    0\n",
            "Name: y, dtype: int64\n",
            "updated weights after epoch: 10/10: \n",
            "[ 1.11796451e-04  2.35866678e-05 -3.16928402e-05]\n",
            "####################\n",
            "\n",
            "total loss: 2\n",
            "\n"
          ]
        }
      ]
    },
    {
      "cell_type": "code",
      "source": [
        "def save_plot(df, model, filename=\"plot.png\", plot_dir=\"plots\"):\n",
        "    def _create_base_plot(df):\n",
        "        df.plot(kind=\"scatter\", x=\"x1\", y=\"x2\", c=\"y\", s=100, cmap=\"coolwarm\")\n",
        "        plt.axhline(y=0, color=\"black\", linestyle=\"--\", linewidth=1)\n",
        "        plt.axvline(x=0, color=\"black\", linestyle=\"--\", linewidth=1)\n",
        "        \n",
        "        figure = plt.gcf()\n",
        "        figure.set_size_inches(10, 8)\n",
        "    \n",
        "    def _plot_decision_regions(X, y, classifier, resolution=0.02):\n",
        "        colors = (\"cyan\", \"lightgreen\")\n",
        "        cmap = ListedColormap(colors)\n",
        "        \n",
        "        X = X.values # as an array\n",
        "        x1 = X[:, 0]\n",
        "        x2 = X[:, 1]\n",
        "        \n",
        "        x1_min, x1_max = x1.min() - 1, x1.max() + 1 \n",
        "        x2_min, x2_max = x2.min() - 1, x2.max() + 1\n",
        "        \n",
        "        xx1, xx2 = np.meshgrid(np.arange(x1_min, x1_max, resolution),\n",
        "                               np.arange(x2_min, x2_max, resolution)\n",
        "                              )\n",
        "        y_hat = classifier.predict(np.array([xx1.ravel(), xx2.ravel()]).T)\n",
        "        y_hat = y_hat.reshape(xx1.shape)\n",
        "        \n",
        "        plt.contourf(xx1, xx2, y_hat, alpha=0.3, cmap=cmap)\n",
        "        plt.xlim(xx1.min(), xx1.max())\n",
        "        plt.ylim(xx2.min(), xx2.max())\n",
        "        \n",
        "        plt.plot()\n",
        "        \n",
        "    X, y = prepare_data(df)\n",
        "    \n",
        "    _create_base_plot(df)\n",
        "    _plot_decision_regions(X, y, model)\n",
        "    \n",
        "    os.makedirs(plot_dir, exist_ok=True)\n",
        "    plot_path = os.path.join(plot_dir, filename)\n",
        "    plt.savefig(plot_path)"
      ],
      "metadata": {
        "id": "LbD-cDkKVKEB"
      },
      "execution_count": 93,
      "outputs": []
    },
    {
      "cell_type": "code",
      "source": [
        "save_plot(df_OR, model_or, filename=\"or.png\")"
      ],
      "metadata": {
        "colab": {
          "base_uri": "https://localhost:8080/",
          "height": 542
        },
        "id": "j1jdIMPgVJ8Z",
        "outputId": "5aec7c42-4d22-4c7b-ab6f-9915568a3275"
      },
      "execution_count": 94,
      "outputs": [
        {
          "output_type": "display_data",
          "data": {
            "text/plain": [
              "<Figure size 720x576 with 2 Axes>"
            ],
            "image/png": "[encoded data removed]"
          },
          "metadata": {}
        }
      ]
    },
    {
      "cell_type": "code",
      "source": [
        "save_plot(df_AND, model_and, filename=\"and.png\")"
      ],
      "metadata": {
        "colab": {
          "base_uri": "https://localhost:8080/",
          "height": 542
        },
        "id": "jTFlElIBVJ0J",
        "outputId": "f73e9534-ed5f-42bd-c9d7-1461b6d87f3e"
      },
      "execution_count": 95,
      "outputs": [
        {
          "output_type": "display_data",
          "data": {
            "text/plain": [
              "<Figure size 720x576 with 2 Axes>"
            ],
            "image/png": "[encoded data removed]"
          },
          "metadata": {}
        }
      ]
    },
    {
      "cell_type": "code",
      "source": [
        "save_plot(df_XOR, model_xor, filename=\"xor.png\") #incorrectly classified as it is non-linear"
      ],
      "metadata": {
        "colab": {
          "base_uri": "https://localhost:8080/",
          "height": 542
        },
        "id": "LQX9EahAYXMc",
        "outputId": "ab8da96a-1a35-49a5-9f06-2ba6731b1773"
      },
      "execution_count": 96,
      "outputs": [
        {
          "output_type": "display_data",
          "data": {
            "text/plain": [
              "<Figure size 720x576 with 2 Axes>"
            ],
            "image/png": "[encoded data removed]"
          },
          "metadata": {}
        }
      ]
    },
    {
      "cell_type": "code",
      "source": [
        ""
      ],
      "metadata": {
        "id": "s_JXEe4VYXHH"
      },
      "execution_count": 96,
      "outputs": []
    },
    {
      "cell_type": "code",
      "source": [
        ""
      ],
      "metadata": {
        "id": "f_Qf7R6wYXEo"
      },
      "execution_count": 96,
      "outputs": []
    },
    {
      "cell_type": "code",
      "source": [
        ""
      ],
      "metadata": {
        "id": "vhzI9FGSYXCG"
      },
      "execution_count": 78,
      "outputs": []
    },
    {
      "cell_type": "code",
      "source": [
        ""
      ],
      "metadata": {
        "id": "JBITZYsIYW7P"
      },
      "execution_count": 78,
      "outputs": []
    },
    {
      "cell_type": "code",
      "source": [
        ""
      ],
      "metadata": {
        "id": "WIKNoUDcYW2l"
      },
      "execution_count": 78,
      "outputs": []
    },
    {
      "cell_type": "code",
      "source": [
        ""
      ],
      "metadata": {
        "id": "O9d9dk1rYWxh"
      },
      "execution_count": 78,
      "outputs": []
    },
    {
      "cell_type": "code",
      "source": [
        ""
      ],
      "metadata": {
        "id": "Z4B7trrwYWsr"
      },
      "execution_count": 78,
      "outputs": []
    },
    {
      "cell_type": "code",
      "source": [
        ""
      ],
      "metadata": {
        "id": "OSnSqUsEYWnq"
      },
      "execution_count": 78,
      "outputs": []
    },
    {
      "cell_type": "code",
      "source": [
        ""
      ],
      "metadata": {
        "id": "Pb_Y6xgXYWi2"
      },
      "execution_count": 78,
      "outputs": []
    },
    {
      "cell_type": "code",
      "source": [
        ""
      ],
      "metadata": {
        "id": "-Anfe-xwYWdn"
      },
      "execution_count": 78,
      "outputs": []
    },
    {
      "cell_type": "code",
      "source": [
        ""
      ],
      "metadata": {
        "id": "9swaGC8fYWY2"
      },
      "execution_count": 78,
      "outputs": []
    },
    {
      "cell_type": "code",
      "source": [
        ""
      ],
      "metadata": {
        "id": "6FAIvS6yYWTI"
      },
      "execution_count": 78,
      "outputs": []
    },
    {
      "cell_type": "code",
      "source": [
        ""
      ],
      "metadata": {
        "id": "Gc_ulAFPYWNe"
      },
      "execution_count": 78,
      "outputs": []
    },
    {
      "cell_type": "code",
      "source": [
        ""
      ],
      "metadata": {
        "id": "X38_X_lFYWHn"
      },
      "execution_count": 78,
      "outputs": []
    },
    {
      "cell_type": "code",
      "source": [
        ""
      ],
      "metadata": {
        "id": "62gW7u5-YWBZ"
      },
      "execution_count": 78,
      "outputs": []
    },
    {
      "cell_type": "code",
      "source": [
        ""
      ],
      "metadata": {
        "id": "A6VLy0ilYV6u"
      },
      "execution_count": 78,
      "outputs": []
    },
    {
      "cell_type": "code",
      "source": [
        ""
      ],
      "metadata": {
        "id": "q0X8OJkRYVxi"
      },
      "execution_count": 78,
      "outputs": []
    }
  ]
}